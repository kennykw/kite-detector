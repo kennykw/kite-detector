{
 "cells": [
  {
   "cell_type": "markdown",
   "metadata": {},
   "source": [
    "# Kite Detector\n",
    "\n",
    "## Image processing to identify kitesurfing kites from phone pictures"
   ]
  },
  {
   "cell_type": "markdown",
   "metadata": {
    "collapsed": true
   },
   "source": [
    "Capturing photos of you and your friends when engaged in outdoor sports is good.  I go kitesurfing and it's always nice to have photos.  I'm interested in recording kiters from the beach with an autonmous system.\n",
    "\n",
    "The application is a camera on the beach which takes good pictures of a group of people kiting.  A compareable product is soloshot.\n",
    "\n",
    "An OpenCV HAAR classifier was used to classify pictures of kites from phone photos.  From a small dataset classification accuracy of 70% was obtained.  the main recommendation for improved performance is to obatin a larger dataset."
   ]
  }
 ],
 "metadata": {
  "kernelspec": {
   "display_name": "Python 2",
   "language": "python",
   "name": "python2"
  },
  "language_info": {
   "codemirror_mode": {
    "name": "ipython",
    "version": 2
   },
   "file_extension": ".py",
   "mimetype": "text/x-python",
   "name": "python",
   "nbconvert_exporter": "python",
   "pygments_lexer": "ipython2",
   "version": "2.7.6"
  }
 },
 "nbformat": 4,
 "nbformat_minor": 0
}
